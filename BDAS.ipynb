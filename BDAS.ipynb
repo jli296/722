{
 "cells": [
  {
   "cell_type": "code",
   "execution_count": 1,
   "id": "98abadcd",
   "metadata": {},
   "outputs": [
    {
     "name": "stderr",
     "output_type": "stream",
     "text": [
      "WARNING: An illegal reflective access operation has occurred\n",
      "WARNING: Illegal reflective access by org.apache.spark.unsafe.Platform (file:/home/ubuntu/spark-3.2.1-bin-hadoop2.7/jars/spark-unsafe_2.12-3.2.1.jar) to constructor java.nio.DirectByteBuffer(long,int)\n",
      "WARNING: Please consider reporting this to the maintainers of org.apache.spark.unsafe.Platform\n",
      "WARNING: Use --illegal-access=warn to enable warnings of further illegal reflective access operations\n",
      "WARNING: All illegal access operations will be denied in a future release\n",
      "Using Spark's default log4j profile: org/apache/spark/log4j-defaults.properties\n",
      "Setting default log level to \"WARN\".\n",
      "To adjust logging level use sc.setLogLevel(newLevel). For SparkR, use setLogLevel(newLevel).\n",
      "24/05/23 09:58:24 WARN NativeCodeLoader: Unable to load native-hadoop library for your platform... using builtin-java classes where applicable\n"
     ]
    }
   ],
   "source": [
    "import findspark\n",
    "findspark.init('/home/ubuntu/spark-3.2.1-bin-hadoop2.7')\n",
    "import pyspark\n",
    "from pyspark.sql import SparkSession\n",
    "spark = SparkSession.builder.appName('BDSA').getOrCreate()"
   ]
  },
  {
   "cell_type": "code",
   "execution_count": 2,
   "id": "34baa4db",
   "metadata": {},
   "outputs": [
    {
     "name": "stderr",
     "output_type": "stream",
     "text": [
      "                                                                                \r"
     ]
    },
    {
     "name": "stdout",
     "output_type": "stream",
     "text": [
      "root\n",
      " |-- ID: integer (nullable = true)\n",
      " |-- Name: string (nullable = true)\n",
      " |-- Age: integer (nullable = true)\n",
      " |-- Gender: string (nullable = true)\n",
      " |-- Height(cm): integer (nullable = true)\n",
      " |-- Weight(kg): integer (nullable = true)\n",
      " |-- Blood Pressure(mmHg): string (nullable = true)\n",
      " |-- Cholesterol(mg/dL): integer (nullable = true)\n",
      " |-- Glucose(mg/dL): integer (nullable = true)\n",
      " |-- Smoker: string (nullable = true)\n",
      " |-- Exercise(hours/week): integer (nullable = true)\n",
      " |-- Heart Attack: integer (nullable = true)\n",
      "\n"
     ]
    }
   ],
   "source": [
    "df = spark.read.csv('Heart_health.csv', inferSchema=True, header=True)\n",
    "df.printSchema()"
   ]
  },
  {
   "cell_type": "code",
   "execution_count": 3,
   "id": "70e0b818",
   "metadata": {},
   "outputs": [
    {
     "name": "stdout",
     "output_type": "stream",
     "text": [
      "+---+------------------+---+------+----------+----------+--------------------+------------------+--------------+------+--------------------+------------+\n",
      "| ID|              Name|Age|Gender|Height(cm)|Weight(kg)|Blood Pressure(mmHg)|Cholesterol(mg/dL)|Glucose(mg/dL)|Smoker|Exercise(hours/week)|Heart Attack|\n",
      "+---+------------------+---+------+----------+----------+--------------------+------------------+--------------+------+--------------------+------------+\n",
      "|  1|          John Doe| 45|  Male|       175|        80|              120/80|               200|            90|    No|                   3|           0|\n",
      "|  2|        Jane Smith| 35|Female|       160|        65|              110/70|               180|            80|    No|                   2|           0|\n",
      "|  3|   Michael Johnson| 55|  Male|       180|        85|              130/85|               220|            95|   Yes|                   4|           1|\n",
      "|  4|       Sarah Brown| 40|Female|       165|        70|              115/75|               190|            85|    No|                   3|           0|\n",
      "|  5|         David Lee| 50|  Male|       170|        75|              125/80|               210|            92|   Yes|                   2|           1|\n",
      "|  6|       Emily Davis| 30|Female|       155|        60|              105/65|               170|            75|    No|                   1|           0|\n",
      "|  7|     Robert Wilson| 60|  Male|       175|        82|              135/85|               230|            98|    No|                   3|           1|\n",
      "|  8|   Amanda Martinez| 38|Female|       162|        68|              118/72|               195|            88|    No|                   2|           0|\n",
      "|  9|Christopher Taylor| 48|  Male|       178|        78|              128/82|               205|            94|   Yes|                   4|           1|\n",
      "| 10|      Laura Garcia| 42|Female|       168|        72|              120/78|               200|            90|   Yes|                   3|           0|\n",
      "| 11|   James Rodriguez| 52|  Male|       173|        79|              122/80|               215|            96|    No|                   2|           1|\n",
      "| 12|Michelle Hernandez| 32|Female|       157|        62|              108/68|               175|            78|    No|                   1|           0|\n",
      "| 13|    William Nguyen| 58|  Male|       182|        88|              132/84|               225|            97|   Yes|                   3|           1|\n",
      "| 14|Stephanie Gonzalez| 36|Female|       163|        67|              116/74|               185|            82|    No|                   2|           0|\n",
      "| 15|      Daniel Perez| 46|  Male|       176|        81|              123/78|               210|            92|   Yes|                   4|           1|\n",
      "| 16|    Rebecca Flores| 33|Female|       158|        63|              110/70|               180|            80|    No|                   1|           0|\n",
      "| 17|        Joseph Kim| 57|  Male|       181|        87|              130/83|               220|            96|    No|                   3|           1|\n",
      "| 18|       Kelly Lopez| 39|Female|       164|        69|              117/73|               190|            85|    No|                   2|           0|\n",
      "| 19|       Brian Smith| 49|  Male|       177|        80|              125/80|               200|            90|   Yes|                   3|           1|\n",
      "| 20|    Elizabeth Wang| 37|Female|       166|        71|              119/75|               195|            88|    No|                   2|           0|\n",
      "+---+------------------+---+------+----------+----------+--------------------+------------------+--------------+------+--------------------+------------+\n",
      "only showing top 20 rows\n",
      "\n"
     ]
    }
   ],
   "source": [
    "df.show()"
   ]
  },
  {
   "cell_type": "code",
   "execution_count": 4,
   "id": "09a7cac4",
   "metadata": {},
   "outputs": [
    {
     "name": "stdout",
     "output_type": "stream",
     "text": [
      "+------+-----+\n",
      "|Gender|count|\n",
      "+------+-----+\n",
      "|Female|  362|\n",
      "|  Male|  362|\n",
      "+------+-----+\n",
      "\n"
     ]
    }
   ],
   "source": [
    "gender_counts = df.groupBy(\"Gender\").count()\n",
    "gender_counts.show()"
   ]
  },
  {
   "cell_type": "code",
   "execution_count": 5,
   "id": "fe20a3bb",
   "metadata": {},
   "outputs": [
    {
     "name": "stdout",
     "output_type": "stream",
     "text": [
      "+--------+-----+\n",
      "| age_bin|count|\n",
      "+--------+-----+\n",
      "|    null|    5|\n",
      "|[30, 35)|   75|\n",
      "|[35, 40)|  151|\n",
      "|[40, 45)|  139|\n",
      "|[45, 50)|  134|\n",
      "|[50, 55)|   92|\n",
      "|[55, 60)|  128|\n",
      "+--------+-----+\n",
      "\n"
     ]
    }
   ],
   "source": [
    "from pyspark.sql import functions as F\n",
    "\n",
    "bins = [30, 35, 40, 45, 50, 55, 60]\n",
    "\n",
    "conditions = [\n",
    "    (df['Age'] >= bins[i]) & (df['Age'] < bins[i + 1]) for i in range(len(bins) - 1)\n",
    "]\n",
    "labels = [f\"[{bins[i]}, {bins[i + 1]})\" for i in range(len(bins) - 1)]\n",
    "\n",
    "df = df.withColumn(\n",
    "    'age_bin',\n",
    "    F.when(conditions[0], labels[0])\n",
    ")\n",
    "\n",
    "for condition, label in zip(conditions[1:], labels[1:]):\n",
    "    df = df.withColumn(\n",
    "        'age_bin',\n",
    "        F.when(condition, label).otherwise(df['age_bin'])\n",
    "    )\n",
    "\n",
    "age_bin_counts = df.groupBy('age_bin').count().orderBy('age_bin')\n",
    "\n",
    "age_bin_counts.show()"
   ]
  },
  {
   "cell_type": "code",
   "execution_count": 6,
   "id": "bdb159ea",
   "metadata": {},
   "outputs": [
    {
     "name": "stdout",
     "output_type": "stream",
     "text": [
      "+------------+-----+\n",
      "|Heart Attack|count|\n",
      "+------------+-----+\n",
      "|           1|  434|\n",
      "|           0|  290|\n",
      "+------------+-----+\n",
      "\n"
     ]
    }
   ],
   "source": [
    "attack_counts = df.groupBy(\"Heart Attack\").count()\n",
    "attack_counts.show()"
   ]
  },
  {
   "cell_type": "code",
   "execution_count": 7,
   "id": "618dbba4",
   "metadata": {},
   "outputs": [],
   "source": [
    "import matplotlib.pyplot as plt"
   ]
  },
  {
   "cell_type": "code",
   "execution_count": 8,
   "id": "32d47825",
   "metadata": {},
   "outputs": [
    {
     "data": {
      "image/png": "[encoded data removed]",
      "text/plain": [
       "<Figure size 720x432 with 1 Axes>"
      ]
     },
     "metadata": {
      "needs_background": "light"
     },
     "output_type": "display_data"
    }
   ],
   "source": [
    "local_gender_counts = gender_counts.collect()\n",
    "\n",
    "genders = [row['Gender'] for row in local_gender_counts]\n",
    "counts = [row['count'] for row in local_gender_counts]\n",
    "\n",
    "plt.figure(figsize=(10, 6))\n",
    "plt.bar(genders, counts, color=['skyblue', 'pink'])\n",
    "plt.xlabel('Gender')\n",
    "plt.ylabel('Count')\n",
    "plt.title('Gender Distribution')\n",
    "plt.xticks(rotation=0)  \n",
    "plt.show()"
   ]
  },
  {
   "cell_type": "code",
   "execution_count": 9,
   "id": "256fd72e",
   "metadata": {},
   "outputs": [
    {
     "data": {
      "image/png": "[encoded data removed]",
      "text/plain": [
       "<Figure size 720x432 with 1 Axes>"
      ]
     },
     "metadata": {
      "needs_background": "light"
     },
     "output_type": "display_data"
    }
   ],
   "source": [
    "local_attack_counts = attack_counts.collect()\n",
    "\n",
    "attack = [row['Heart Attack'] for row in local_attack_counts]\n",
    "counts = [row['count'] for row in local_attack_counts]\n",
    "\n",
    "plt.figure(figsize=(10, 6))\n",
    "plt.bar(genders, counts, color=['skyblue', 'pink'])\n",
    "plt.xlabel('Heart Attack')\n",
    "plt.ylabel('Count')\n",
    "plt.title('Heart Attack Distribution')\n",
    "plt.xticks(rotation=0)  \n",
    "plt.show()"
   ]
  },
  {
   "cell_type": "code",
   "execution_count": 10,
   "id": "0f81088c",
   "metadata": {},
   "outputs": [
    {
     "name": "stdout",
     "output_type": "stream",
     "text": [
      "root\n",
      " |-- ID: integer (nullable = true)\n",
      " |-- Name: string (nullable = true)\n",
      " |-- Age: integer (nullable = true)\n",
      " |-- Gender: string (nullable = true)\n",
      " |-- Height(cm): integer (nullable = true)\n",
      " |-- Weight(kg): integer (nullable = true)\n",
      " |-- Blood Pressure(mmHg): string (nullable = true)\n",
      " |-- Cholesterol(mg/dL): integer (nullable = true)\n",
      " |-- Glucose(mg/dL): integer (nullable = true)\n",
      " |-- Smoker: string (nullable = true)\n",
      " |-- Exercise(hours/week): integer (nullable = true)\n",
      " |-- Heart Attack: integer (nullable = true)\n",
      "\n"
     ]
    }
   ],
   "source": [
    "df1 = spark.read.csv('Heart_health111.csv', inferSchema=True, header=True)\n",
    "df1.printSchema()"
   ]
  },
  {
   "cell_type": "code",
   "execution_count": 11,
   "id": "982053d2",
   "metadata": {},
   "outputs": [
    {
     "name": "stdout",
     "output_type": "stream",
     "text": [
      "+---+------------------+----+------+----------+----------+--------------------+------------------+--------------+------+--------------------+------------+\n",
      "| ID|              Name| Age|Gender|Height(cm)|Weight(kg)|Blood Pressure(mmHg)|Cholesterol(mg/dL)|Glucose(mg/dL)|Smoker|Exercise(hours/week)|Heart Attack|\n",
      "+---+------------------+----+------+----------+----------+--------------------+------------------+--------------+------+--------------------+------------+\n",
      "|  1|          John Doe|  45|  Male|       175|        80|              120/80|               200|            90|    No|                   3|           0|\n",
      "|  2|        Jane Smith|  35|Female|       160|        65|              110/70|               180|            80|    No|                   2|           0|\n",
      "|  3|   Michael Johnson|  55|  Male|       180|        85|              130/85|               220|            95|   Yes|                   4|           1|\n",
      "|  4|       Sarah Brown|  40|Female|       165|        70|              115/75|               190|            85|    No|                   3|           0|\n",
      "|  5|         David Lee|  50|  Male|       170|        75|              125/80|               210|            92|   Yes|                   2|           1|\n",
      "|  6|       Emily Davis|  30|Female|       155|        60|              105/65|               170|            75|    No|                   1|           0|\n",
      "|  7|     Robert Wilson|  60|  Male|       175|        82|              135/85|               230|            98|    No|                   3|           1|\n",
      "|  8|   Amanda Martinez|null|Female|       162|        68|              118/72|               195|            88|    No|                   2|           0|\n",
      "|  9|Christopher Taylor|  48|  Male|       178|        78|              128/82|               205|            94|   Yes|                   4|           1|\n",
      "| 10|      Laura Garcia|  42|Female|       168|        72|              120/78|               200|            90|   Yes|                   3|           0|\n",
      "| 11|   James Rodriguez|  52|  Male|       173|        79|              122/80|               215|            96|    No|                   2|           1|\n",
      "| 12|Michelle Hernandez|  32|Female|       157|        62|              108/68|               175|            78|    No|                   1|           0|\n",
      "| 13|    William Nguyen|  58|  Male|       182|        88|              132/84|               225|            97|   Yes|                   3|           1|\n",
      "| 14|Stephanie Gonzalez|  36|Female|       163|        67|              116/74|               185|            82|    No|                   2|           0|\n",
      "| 15|      Daniel Perez|  46|  Male|      null|        81|              123/78|               210|            92|   Yes|                   4|           1|\n",
      "| 16|    Rebecca Flores|  33|Female|       158|        63|              110/70|               180|            80|    No|                   1|           0|\n",
      "| 17|        Joseph Kim|  57|  Male|       181|        87|              130/83|               220|            96|    No|                   3|           1|\n",
      "| 18|       Kelly Lopez|  39|Female|       164|        69|              117/73|               190|            85|    No|                   2|           0|\n",
      "| 19|       Brian Smith|  49|  Male|       177|        80|              125/80|               200|            90|   Yes|                   3|           1|\n",
      "| 20|    Elizabeth Wang|  37|Female|       166|        71|              119/75|               195|            88|    No|                   2|           0|\n",
      "+---+------------------+----+------+----------+----------+--------------------+------------------+--------------+------+--------------------+------------+\n",
      "only showing top 20 rows\n",
      "\n"
     ]
    }
   ],
   "source": [
    "df1.show()"
   ]
  },
  {
   "cell_type": "code",
   "execution_count": 12,
   "id": "1536cd18",
   "metadata": {},
   "outputs": [
    {
     "name": "stdout",
     "output_type": "stream",
     "text": [
      "+---+-------------------+---+------+----------+----------+--------------------+------------------+--------------+------+--------------------+------------+---------+\n",
      "|ID |Name               |Age|Gender|Height(cm)|Weight(kg)|Blood Pressure(mmHg)|Cholesterol(mg/dL)|Glucose(mg/dL)|Smoker|Exercise(hours/week)|Heart Attack|row_index|\n",
      "+---+-------------------+---+------+----------+----------+--------------------+------------------+--------------+------+--------------------+------------+---------+\n",
      "|41 |Christopher Garcia |53 |Male  |174       |82        |124/78              |215               |94            |No    |3                   |1           |40       |\n",
      "|42 |Sarah Nguyen       |41 |Female|167       |73        |121/77              |205               |90            |Yes   |2                   |0           |41       |\n",
      "|43 |Brandon Smith      |47 |Male  |179       |79        |126/82              |210               |92            |Yes   |3                   |1           |42       |\n",
      "|44 |Amanda Johnson     |31 |F     |156       |61        |109/69              |170               |75            |No    |1                   |0           |43       |\n",
      "|45 |Justin Martinez    |56 |Male  |180       |85        |130/82              |220               |95            |No    |3                   |1           |44       |\n",
      "|46 |Stephanie Wilson   |43 |Female|169       |74        |122/78              |200               |88            |Yes   |2                   |0           |45       |\n",
      "|47 |Matthew Nguyen     |51 |Male  |175       |80        |125/80              |205               |92            |Yes   |4                   |1           |46       |\n",
      "|48 |Lisa Garcia        |35 |Female|161       |66        |113/71              |185               |80            |No    |2                   |0           |47       |\n",
      "|49 |Joseph Rodriguez   |55 |Male  |181       |87        |130/83              |220               |96            |Yes   |3                   |1           |48       |\n",
      "|50 |Sarah Kim          |40 |Female|165       |70        |115/75              |190               |85            |No    |2                   |0           |49       |\n",
      "|51 |Jason Brown        |56 |Male  |182       |88        |132/84              |225               |97            |Yes   |3                   |1           |50       |\n",
      "|52 |Natalie Martinez   |33 |F     |158       |63        |110/70              |180               |80            |Yes   |1                   |0           |51       |\n",
      "|53 |Andrew Lee         |59 |Male  |183       |89        |133/85              |230               |98            |No    |4                   |1           |52       |\n",
      "|54 |Amy Johnson        |34 |Female|159       |64        |112/72              |180               |82            |No    |1                   |0           |53       |\n",
      "|55 |Joshua Garcia      |54 |Male  |178       |84        |128/82              |210               |92            |Yes   |3                   |1           |54       |\n",
      "|56 |Melissa Nguyen     |38 |Female|163       |67        |116/74              |195               |88            |No    |2                   |0           |55       |\n",
      "|57 |David Rodriguez    |48 |Male  |177       |80        |125/80              |200               |90            |Yes   |3                   |1           |56       |\n",
      "|58 |Elizabeth Hernandez|36 |Female|162       |68        |118/72              |195               |88            |Yes   |2                   |0           |57       |\n",
      "|59 |Matthew Smith      |57 |Male  |182       |88        |132/84              |225               |97            |Yes   |3                   |1           |58       |\n",
      "|60 |Stephanie Kim      |33 |Female|158       |63        |110/70              |180               |80            |No    |1                   |0           |59       |\n",
      "|61 |Michael Johnson    |60 |Male  |183       |89        |133/85              |230               |98            |No    |4                   |1           |60       |\n",
      "+---+-------------------+---+------+----------+----------+--------------------+------------------+--------------+------+--------------------+------------+---------+\n",
      "\n"
     ]
    }
   ],
   "source": [
    "from pyspark.sql import functions as F\n",
    "from pyspark.sql.window import Window\n",
    "\n",
    "df_with_index = df1.withColumn(\"row_index\", F.monotonically_increasing_id())\n",
    "\n",
    "filtered_df = df_with_index.filter((F.col(\"row_index\") >= 40) & (F.col(\"row_index\") < 61))\n",
    "\n",
    "filtered_df.show(filtered_df.count(), truncate=False)"
   ]
  },
  {
   "cell_type": "code",
   "execution_count": 13,
   "id": "010c6bca",
   "metadata": {},
   "outputs": [
    {
     "name": "stdout",
     "output_type": "stream",
     "text": [
      "+---+------+----------+----------+--------------------+------------------+--------------+------+--------------------+------------+\n",
      "|Age|Gender|Height(cm)|Weight(kg)|Blood Pressure(mmHg)|Cholesterol(mg/dL)|Glucose(mg/dL)|Smoker|Exercise(hours/week)|Heart Attack|\n",
      "+---+------+----------+----------+--------------------+------------------+--------------+------+--------------------+------------+\n",
      "| 45|  Male|       175|        80|              120/80|               200|            90|    No|                   3|           0|\n",
      "| 35|Female|       160|        65|              110/70|               180|            80|    No|                   2|           0|\n",
      "| 55|  Male|       180|        85|              130/85|               220|            95|   Yes|                   4|           1|\n",
      "| 40|Female|       165|        70|              115/75|               190|            85|    No|                   3|           0|\n",
      "| 50|  Male|       170|        75|              125/80|               210|            92|   Yes|                   2|           1|\n",
      "| 30|Female|       155|        60|              105/65|               170|            75|    No|                   1|           0|\n",
      "| 60|  Male|       175|        82|              135/85|               230|            98|    No|                   3|           1|\n",
      "| 38|Female|       162|        68|              118/72|               195|            88|    No|                   2|           0|\n",
      "| 48|  Male|       178|        78|              128/82|               205|            94|   Yes|                   4|           1|\n",
      "| 42|Female|       168|        72|              120/78|               200|            90|   Yes|                   3|           0|\n",
      "| 52|  Male|       173|        79|              122/80|               215|            96|    No|                   2|           1|\n",
      "| 32|Female|       157|        62|              108/68|               175|            78|    No|                   1|           0|\n",
      "| 58|  Male|       182|        88|              132/84|               225|            97|   Yes|                   3|           1|\n",
      "| 36|Female|       163|        67|              116/74|               185|            82|    No|                   2|           0|\n",
      "| 46|  Male|       176|        81|              123/78|               210|            92|   Yes|                   4|           1|\n",
      "| 33|Female|       158|        63|              110/70|               180|            80|    No|                   1|           0|\n",
      "| 57|  Male|       181|        87|              130/83|               220|            96|    No|                   3|           1|\n",
      "| 39|Female|       164|        69|              117/73|               190|            85|    No|                   2|           0|\n",
      "| 49|  Male|       177|        80|              125/80|               200|            90|   Yes|                   3|           1|\n",
      "| 37|Female|       166|        71|              119/75|               195|            88|    No|                   2|           0|\n",
      "+---+------+----------+----------+--------------------+------------------+--------------+------+--------------------+------------+\n",
      "only showing top 20 rows\n",
      "\n"
     ]
    }
   ],
   "source": [
    "df = df.drop('ID', 'Name','age_bin')\n",
    "df.show()"
   ]
  },
  {
   "cell_type": "code",
   "execution_count": 14,
   "id": "9ec31ce4",
   "metadata": {},
   "outputs": [],
   "source": [
    "age_mean = df.select(F.mean('Age')).collect()[0][0]\n",
    "df = df.na.fill({'Age': age_mean})\n",
    "\n",
    "height_mean = df.select(F.mean('Height(cm)')).collect()[0][0]\n",
    "df = df.na.fill({'Height(cm)': height_mean})"
   ]
  },
  {
   "cell_type": "code",
   "execution_count": 15,
   "id": "55a6fb2d",
   "metadata": {},
   "outputs": [
    {
     "name": "stdout",
     "output_type": "stream",
     "text": [
      "+---+------+----------+----------+--------------------+------------------+--------------+------+--------------------+------------+\n",
      "|Age|Gender|Height(cm)|Weight(kg)|Blood Pressure(mmHg)|Cholesterol(mg/dL)|Glucose(mg/dL)|Smoker|Exercise(hours/week)|Heart Attack|\n",
      "+---+------+----------+----------+--------------------+------------------+--------------+------+--------------------+------------+\n",
      "|  0|     0|         0|         0|                   0|                 0|             0|     0|                   0|           0|\n",
      "+---+------+----------+----------+--------------------+------------------+--------------+------+--------------------+------------+\n",
      "\n"
     ]
    }
   ],
   "source": [
    "null_counts = df.select([F.sum(F.col(c).isNull().cast(\"int\")).alias(c) for c in df.columns])\n",
    "null_counts.show()"
   ]
  },
  {
   "cell_type": "code",
   "execution_count": 16,
   "id": "053dd0c0",
   "metadata": {},
   "outputs": [],
   "source": [
    "df = df.na.replace(['M', 'F'], ['Male', 'Female'], 'Gender')"
   ]
  },
  {
   "cell_type": "code",
   "execution_count": 17,
   "id": "67bb5a10",
   "metadata": {},
   "outputs": [
    {
     "name": "stdout",
     "output_type": "stream",
     "text": [
      "+------+\n",
      "|Gender|\n",
      "+------+\n",
      "|Female|\n",
      "|  Male|\n",
      "+------+\n",
      "\n"
     ]
    }
   ],
   "source": [
    "unique_genders = df.select(\"Gender\").distinct()\n",
    "unique_genders.show()"
   ]
  },
  {
   "cell_type": "code",
   "execution_count": 18,
   "id": "afb3a795",
   "metadata": {},
   "outputs": [
    {
     "name": "stdout",
     "output_type": "stream",
     "text": [
      "+---+------+----------+----------+------------------+--------------+------+--------------------+------------+-------------------------+------------------------+\n",
      "|Age|Gender|Height(cm)|Weight(kg)|Cholesterol(mg/dL)|Glucose(mg/dL)|Smoker|Exercise(hours/week)|Heart Attack|High Blood Pressure(mmHg)|Low Blood Pressure(mmHg)|\n",
      "+---+------+----------+----------+------------------+--------------+------+--------------------+------------+-------------------------+------------------------+\n",
      "| 45|  Male|       175|        80|               200|            90|    No|                   3|           0|                      120|                      80|\n",
      "| 35|Female|       160|        65|               180|            80|    No|                   2|           0|                      110|                      70|\n",
      "| 55|  Male|       180|        85|               220|            95|   Yes|                   4|           1|                      130|                      85|\n",
      "| 40|Female|       165|        70|               190|            85|    No|                   3|           0|                      115|                      75|\n",
      "| 50|  Male|       170|        75|               210|            92|   Yes|                   2|           1|                      125|                      80|\n",
      "| 30|Female|       155|        60|               170|            75|    No|                   1|           0|                      105|                      65|\n",
      "| 60|  Male|       175|        82|               230|            98|    No|                   3|           1|                      135|                      85|\n",
      "| 38|Female|       162|        68|               195|            88|    No|                   2|           0|                      118|                      72|\n",
      "| 48|  Male|       178|        78|               205|            94|   Yes|                   4|           1|                      128|                      82|\n",
      "| 42|Female|       168|        72|               200|            90|   Yes|                   3|           0|                      120|                      78|\n",
      "| 52|  Male|       173|        79|               215|            96|    No|                   2|           1|                      122|                      80|\n",
      "| 32|Female|       157|        62|               175|            78|    No|                   1|           0|                      108|                      68|\n",
      "| 58|  Male|       182|        88|               225|            97|   Yes|                   3|           1|                      132|                      84|\n",
      "| 36|Female|       163|        67|               185|            82|    No|                   2|           0|                      116|                      74|\n",
      "| 46|  Male|       176|        81|               210|            92|   Yes|                   4|           1|                      123|                      78|\n",
      "| 33|Female|       158|        63|               180|            80|    No|                   1|           0|                      110|                      70|\n",
      "| 57|  Male|       181|        87|               220|            96|    No|                   3|           1|                      130|                      83|\n",
      "| 39|Female|       164|        69|               190|            85|    No|                   2|           0|                      117|                      73|\n",
      "| 49|  Male|       177|        80|               200|            90|   Yes|                   3|           1|                      125|                      80|\n",
      "| 37|Female|       166|        71|               195|            88|    No|                   2|           0|                      119|                      75|\n",
      "+---+------+----------+----------+------------------+--------------+------+--------------------+------------+-------------------------+------------------------+\n",
      "only showing top 20 rows\n",
      "\n"
     ]
    }
   ],
   "source": [
    "# Split the 'Blood Pressure (mmHg)' column and create a new one\n",
    "df = df.withColumn(\"High Blood Pressure(mmHg)\", F.split(F.col(\"Blood Pressure(mmHg)\"), \"/\")[0].cast(\"int\"))\n",
    "df = df.withColumn(\"Low Blood Pressure(mmHg)\", F.split(F.col(\"Blood Pressure(mmHg)\"), \"/\")[1].cast(\"int\"))\n",
    "# Delete the original 'Blood Pressure (mmHg)' column\n",
    "df = df.drop(\"Blood Pressure(mmHg)\")\n",
    "df.show()"
   ]
  },
  {
   "cell_type": "code",
   "execution_count": 19,
   "id": "6804af2b",
   "metadata": {},
   "outputs": [
    {
     "name": "stdout",
     "output_type": "stream",
     "text": [
      "+------------------+\n",
      "|               BMI|\n",
      "+------------------+\n",
      "|26.122448979591837|\n",
      "|25.390624999999996|\n",
      "|26.234567901234566|\n",
      "| 25.71166207529844|\n",
      "| 25.95155709342561|\n",
      "| 24.97398543184183|\n",
      "|26.775510204081634|\n",
      "|25.910684346898332|\n",
      "| 24.61810377477591|\n",
      "|25.510204081632658|\n",
      "|26.395803401383272|\n",
      "|25.153150229218223|\n",
      "| 26.56683975365294|\n",
      "| 25.21735857578381|\n",
      "|26.149276859504134|\n",
      "|25.236340330075304|\n",
      "|26.555965935105768|\n",
      "|25.654372397382513|\n",
      "| 25.53544639152223|\n",
      "| 25.76571345623458|\n",
      "+------------------+\n",
      "only showing top 20 rows\n",
      "\n"
     ]
    }
   ],
   "source": [
    "BMI = df.select((df[\"Weight(kg)\"] / (df[\"Height(cm)\"] / 100) ** 2).alias(\"BMI\"))\n",
    "BMI.show()"
   ]
  },
  {
   "cell_type": "code",
   "execution_count": 20,
   "id": "caa04e97",
   "metadata": {},
   "outputs": [
    {
     "name": "stdout",
     "output_type": "stream",
     "text": [
      "+---+------+----------+----------+------------------+--------------+------+--------------------+------------+-------------------------+------------------------+------------------+\n",
      "|Age|Gender|Height(cm)|Weight(kg)|Cholesterol(mg/dL)|Glucose(mg/dL)|Smoker|Exercise(hours/week)|Heart Attack|High Blood Pressure(mmHg)|Low Blood Pressure(mmHg)|               BMI|\n",
      "+---+------+----------+----------+------------------+--------------+------+--------------------+------------+-------------------------+------------------------+------------------+\n",
      "| 45|  Male|       175|        80|               200|            90|    No|                   3|           0|                      120|                      80|26.122448979591837|\n",
      "| 35|Female|       160|        65|               180|            80|    No|                   2|           0|                      110|                      70|25.390624999999996|\n",
      "| 55|  Male|       180|        85|               220|            95|   Yes|                   4|           1|                      130|                      85|26.234567901234566|\n",
      "| 40|Female|       165|        70|               190|            85|    No|                   3|           0|                      115|                      75| 25.71166207529844|\n",
      "| 50|  Male|       170|        75|               210|            92|   Yes|                   2|           1|                      125|                      80| 25.95155709342561|\n",
      "| 30|Female|       155|        60|               170|            75|    No|                   1|           0|                      105|                      65| 24.97398543184183|\n",
      "| 60|  Male|       175|        82|               230|            98|    No|                   3|           1|                      135|                      85|26.775510204081634|\n",
      "| 38|Female|       162|        68|               195|            88|    No|                   2|           0|                      118|                      72|25.910684346898332|\n",
      "| 48|  Male|       178|        78|               205|            94|   Yes|                   4|           1|                      128|                      82| 24.61810377477591|\n",
      "| 42|Female|       168|        72|               200|            90|   Yes|                   3|           0|                      120|                      78|25.510204081632658|\n",
      "| 52|  Male|       173|        79|               215|            96|    No|                   2|           1|                      122|                      80|26.395803401383272|\n",
      "| 32|Female|       157|        62|               175|            78|    No|                   1|           0|                      108|                      68|25.153150229218223|\n",
      "| 58|  Male|       182|        88|               225|            97|   Yes|                   3|           1|                      132|                      84| 26.56683975365294|\n",
      "| 36|Female|       163|        67|               185|            82|    No|                   2|           0|                      116|                      74| 25.21735857578381|\n",
      "| 46|  Male|       176|        81|               210|            92|   Yes|                   4|           1|                      123|                      78|26.149276859504134|\n",
      "| 33|Female|       158|        63|               180|            80|    No|                   1|           0|                      110|                      70|25.236340330075304|\n",
      "| 57|  Male|       181|        87|               220|            96|    No|                   3|           1|                      130|                      83|26.555965935105768|\n",
      "| 39|Female|       164|        69|               190|            85|    No|                   2|           0|                      117|                      73|25.654372397382513|\n",
      "| 49|  Male|       177|        80|               200|            90|   Yes|                   3|           1|                      125|                      80| 25.53544639152223|\n",
      "| 37|Female|       166|        71|               195|            88|    No|                   2|           0|                      119|                      75| 25.76571345623458|\n",
      "+---+------+----------+----------+------------------+--------------+------+--------------------+------------+-------------------------+------------------------+------------------+\n",
      "only showing top 20 rows\n",
      "\n"
     ]
    }
   ],
   "source": [
    "df = df.withColumn(\"BMI\", df[\"Weight(kg)\"] / (df[\"Height(cm)\"] / 100) ** 2)\n",
    "df.show()"
   ]
  },
  {
   "cell_type": "code",
   "execution_count": 21,
   "id": "f590dca0",
   "metadata": {},
   "outputs": [
    {
     "name": "stdout",
     "output_type": "stream",
     "text": [
      "+---+------+----------+----------+------------------+--------------+------+--------------------+------------+-------------------------+------------------------+------------------+\n",
      "|Age|Gender|Height(cm)|Weight(kg)|Cholesterol(mg/dL)|Glucose(mg/dL)|Smoker|Exercise(hours/week)|Heart Attack|High Blood Pressure(mmHg)|Low Blood Pressure(mmHg)|               BMI|\n",
      "+---+------+----------+----------+------------------+--------------+------+--------------------+------------+-------------------------+------------------------+------------------+\n",
      "| 45|     1|       175|        80|               200|            90|     0|                   3|           0|                      120|                      80|26.122448979591837|\n",
      "| 35|     2|       160|        65|               180|            80|     0|                   2|           0|                      110|                      70|25.390624999999996|\n",
      "| 55|     1|       180|        85|               220|            95|     1|                   4|           1|                      130|                      85|26.234567901234566|\n",
      "| 40|     2|       165|        70|               190|            85|     0|                   3|           0|                      115|                      75| 25.71166207529844|\n",
      "| 50|     1|       170|        75|               210|            92|     1|                   2|           1|                      125|                      80| 25.95155709342561|\n",
      "| 30|     2|       155|        60|               170|            75|     0|                   1|           0|                      105|                      65| 24.97398543184183|\n",
      "| 60|     1|       175|        82|               230|            98|     0|                   3|           1|                      135|                      85|26.775510204081634|\n",
      "| 38|     2|       162|        68|               195|            88|     0|                   2|           0|                      118|                      72|25.910684346898332|\n",
      "| 48|     1|       178|        78|               205|            94|     1|                   4|           1|                      128|                      82| 24.61810377477591|\n",
      "| 42|     2|       168|        72|               200|            90|     1|                   3|           0|                      120|                      78|25.510204081632658|\n",
      "| 52|     1|       173|        79|               215|            96|     0|                   2|           1|                      122|                      80|26.395803401383272|\n",
      "| 32|     2|       157|        62|               175|            78|     0|                   1|           0|                      108|                      68|25.153150229218223|\n",
      "| 58|     1|       182|        88|               225|            97|     1|                   3|           1|                      132|                      84| 26.56683975365294|\n",
      "| 36|     2|       163|        67|               185|            82|     0|                   2|           0|                      116|                      74| 25.21735857578381|\n",
      "| 46|     1|       176|        81|               210|            92|     1|                   4|           1|                      123|                      78|26.149276859504134|\n",
      "| 33|     2|       158|        63|               180|            80|     0|                   1|           0|                      110|                      70|25.236340330075304|\n",
      "| 57|     1|       181|        87|               220|            96|     0|                   3|           1|                      130|                      83|26.555965935105768|\n",
      "| 39|     2|       164|        69|               190|            85|     0|                   2|           0|                      117|                      73|25.654372397382513|\n",
      "| 49|     1|       177|        80|               200|            90|     1|                   3|           1|                      125|                      80| 25.53544639152223|\n",
      "| 37|     2|       166|        71|               195|            88|     0|                   2|           0|                      119|                      75| 25.76571345623458|\n",
      "+---+------+----------+----------+------------------+--------------+------+--------------------+------------+-------------------------+------------------------+------------------+\n",
      "only showing top 20 rows\n",
      "\n"
     ]
    }
   ],
   "source": [
    "df = df.withColumn(\"Gender\", \n",
    "                   F.when(F.col(\"Gender\") == \"Male\", 1)\n",
    "                   .when(F.col(\"Gender\") == \"Female\", 2)\n",
    "                   .otherwise(F.col(\"Gender\")))\n",
    "\n",
    "df = df.withColumn(\"Smoker\", \n",
    "                   F.when(F.col(\"Smoker\") == \"No\", 0)\n",
    "                   .when(F.col(\"Smoker\") == \"Yes\", 1)\n",
    "                   .otherwise(F.col(\"Smoker\")))\n",
    "\n",
    "df.show()"
   ]
  },
  {
   "cell_type": "code",
   "execution_count": 22,
   "id": "4ef8d1e6",
   "metadata": {},
   "outputs": [
    {
     "name": "stdout",
     "output_type": "stream",
     "text": [
      "+---+------+------------------+--------------+------+--------------------+------------+-------------------------+------------------------+------------------+\n",
      "|Age|Gender|Cholesterol(mg/dL)|Glucose(mg/dL)|Smoker|Exercise(hours/week)|Heart Attack|High Blood Pressure(mmHg)|Low Blood Pressure(mmHg)|               BMI|\n",
      "+---+------+------------------+--------------+------+--------------------+------------+-------------------------+------------------------+------------------+\n",
      "| 45|     1|               200|            90|     0|                   3|           0|                      120|                      80|26.122448979591837|\n",
      "| 35|     2|               180|            80|     0|                   2|           0|                      110|                      70|25.390624999999996|\n",
      "| 55|     1|               220|            95|     1|                   4|           1|                      130|                      85|26.234567901234566|\n",
      "| 40|     2|               190|            85|     0|                   3|           0|                      115|                      75| 25.71166207529844|\n",
      "| 50|     1|               210|            92|     1|                   2|           1|                      125|                      80| 25.95155709342561|\n",
      "| 30|     2|               170|            75|     0|                   1|           0|                      105|                      65| 24.97398543184183|\n",
      "| 60|     1|               230|            98|     0|                   3|           1|                      135|                      85|26.775510204081634|\n",
      "| 38|     2|               195|            88|     0|                   2|           0|                      118|                      72|25.910684346898332|\n",
      "| 48|     1|               205|            94|     1|                   4|           1|                      128|                      82| 24.61810377477591|\n",
      "| 42|     2|               200|            90|     1|                   3|           0|                      120|                      78|25.510204081632658|\n",
      "| 52|     1|               215|            96|     0|                   2|           1|                      122|                      80|26.395803401383272|\n",
      "| 32|     2|               175|            78|     0|                   1|           0|                      108|                      68|25.153150229218223|\n",
      "| 58|     1|               225|            97|     1|                   3|           1|                      132|                      84| 26.56683975365294|\n",
      "| 36|     2|               185|            82|     0|                   2|           0|                      116|                      74| 25.21735857578381|\n",
      "| 46|     1|               210|            92|     1|                   4|           1|                      123|                      78|26.149276859504134|\n",
      "| 33|     2|               180|            80|     0|                   1|           0|                      110|                      70|25.236340330075304|\n",
      "| 57|     1|               220|            96|     0|                   3|           1|                      130|                      83|26.555965935105768|\n",
      "| 39|     2|               190|            85|     0|                   2|           0|                      117|                      73|25.654372397382513|\n",
      "| 49|     1|               200|            90|     1|                   3|           1|                      125|                      80| 25.53544639152223|\n",
      "| 37|     2|               195|            88|     0|                   2|           0|                      119|                      75| 25.76571345623458|\n",
      "+---+------+------------------+--------------+------+--------------------+------------+-------------------------+------------------------+------------------+\n",
      "only showing top 20 rows\n",
      "\n"
     ]
    }
   ],
   "source": [
    "df = df.drop('Height(cm)', 'Weight(kg)')\n",
    "df.show()"
   ]
  },
  {
   "cell_type": "code",
   "execution_count": 23,
   "id": "0950014e",
   "metadata": {},
   "outputs": [],
   "source": [
    "columns = df.columns\n",
    "columns.remove(\"Heart Attack\")\n",
    "\n",
    "for col in columns:\n",
    "    df = df.withColumn(col, df[col].cast(\"double\"))\n",
    "\n",
    "correlations = {}\n",
    "for col in columns:\n",
    "    correlation = df.stat.corr(\"Heart Attack\", col)\n",
    "    correlations[col] = correlation"
   ]
  },
  {
   "cell_type": "code",
   "execution_count": 24,
   "id": "be1f74e8",
   "metadata": {},
   "outputs": [
    {
     "data": {
      "text/plain": [
       "{'Age': 0.6135043981502403,\n",
       " 'Gender': -0.5693869455152482,\n",
       " 'Cholesterol(mg/dL)': 0.8271098772273353,\n",
       " 'Glucose(mg/dL)': 0.7925246891216352,\n",
       " 'Smoker': 0.03042162445802788,\n",
       " 'Exercise(hours/week)': 0.6049508476532114,\n",
       " 'High Blood Pressure(mmHg)': 0.7187043754703035,\n",
       " 'Low Blood Pressure(mmHg)': 0.7545154370174629,\n",
       " 'BMI': 0.5710877423402501}"
      ]
     },
     "execution_count": 24,
     "metadata": {},
     "output_type": "execute_result"
    }
   ],
   "source": [
    "correlations"
   ]
  },
  {
   "cell_type": "code",
   "execution_count": 25,
   "id": "df03bee0",
   "metadata": {},
   "outputs": [
    {
     "name": "stdout",
     "output_type": "stream",
     "text": [
      "+----+------+------------------+--------------+--------------------+------------+-------------------------+------------------------+------------------+\n",
      "| Age|Gender|Cholesterol(mg/dL)|Glucose(mg/dL)|Exercise(hours/week)|Heart Attack|High Blood Pressure(mmHg)|Low Blood Pressure(mmHg)|               BMI|\n",
      "+----+------+------------------+--------------+--------------------+------------+-------------------------+------------------------+------------------+\n",
      "|45.0|   1.0|             200.0|          90.0|                 3.0|           0|                    120.0|                    80.0|26.122448979591837|\n",
      "|35.0|   2.0|             180.0|          80.0|                 2.0|           0|                    110.0|                    70.0|25.390624999999996|\n",
      "|55.0|   1.0|             220.0|          95.0|                 4.0|           1|                    130.0|                    85.0|26.234567901234566|\n",
      "|40.0|   2.0|             190.0|          85.0|                 3.0|           0|                    115.0|                    75.0| 25.71166207529844|\n",
      "|50.0|   1.0|             210.0|          92.0|                 2.0|           1|                    125.0|                    80.0| 25.95155709342561|\n",
      "|30.0|   2.0|             170.0|          75.0|                 1.0|           0|                    105.0|                    65.0| 24.97398543184183|\n",
      "|60.0|   1.0|             230.0|          98.0|                 3.0|           1|                    135.0|                    85.0|26.775510204081634|\n",
      "|38.0|   2.0|             195.0|          88.0|                 2.0|           0|                    118.0|                    72.0|25.910684346898332|\n",
      "|48.0|   1.0|             205.0|          94.0|                 4.0|           1|                    128.0|                    82.0| 24.61810377477591|\n",
      "|42.0|   2.0|             200.0|          90.0|                 3.0|           0|                    120.0|                    78.0|25.510204081632658|\n",
      "|52.0|   1.0|             215.0|          96.0|                 2.0|           1|                    122.0|                    80.0|26.395803401383272|\n",
      "|32.0|   2.0|             175.0|          78.0|                 1.0|           0|                    108.0|                    68.0|25.153150229218223|\n",
      "|58.0|   1.0|             225.0|          97.0|                 3.0|           1|                    132.0|                    84.0| 26.56683975365294|\n",
      "|36.0|   2.0|             185.0|          82.0|                 2.0|           0|                    116.0|                    74.0| 25.21735857578381|\n",
      "|46.0|   1.0|             210.0|          92.0|                 4.0|           1|                    123.0|                    78.0|26.149276859504134|\n",
      "|33.0|   2.0|             180.0|          80.0|                 1.0|           0|                    110.0|                    70.0|25.236340330075304|\n",
      "|57.0|   1.0|             220.0|          96.0|                 3.0|           1|                    130.0|                    83.0|26.555965935105768|\n",
      "|39.0|   2.0|             190.0|          85.0|                 2.0|           0|                    117.0|                    73.0|25.654372397382513|\n",
      "|49.0|   1.0|             200.0|          90.0|                 3.0|           1|                    125.0|                    80.0| 25.53544639152223|\n",
      "|37.0|   2.0|             195.0|          88.0|                 2.0|           0|                    119.0|                    75.0| 25.76571345623458|\n",
      "+----+------+------------------+--------------+--------------------+------------+-------------------------+------------------------+------------------+\n",
      "only showing top 20 rows\n",
      "\n"
     ]
    }
   ],
   "source": [
    "df = df.drop('Smoker')\n",
    "df.show()"
   ]
  },
  {
   "cell_type": "code",
   "execution_count": 26,
   "id": "b234890d",
   "metadata": {},
   "outputs": [
    {
     "data": {
      "image/png": "[encoded data removed]",
      "text/plain": [
       "<Figure size 720x432 with 1 Axes>"
      ]
     },
     "metadata": {
      "needs_background": "light"
     },
     "output_type": "display_data"
    }
   ],
   "source": [
    "plt.figure(figsize=(10, 6))\n",
    "plt.hist(df.select(\"BMI\").toPandas(), bins=30, color='darkblue', alpha=0.7)\n",
    "plt.title('Histogram of BMI')\n",
    "plt.xlabel('BMI')\n",
    "plt.ylabel('Frequency')\n",
    "plt.grid(True)\n",
    "plt.show()"
   ]
  },
  {
   "cell_type": "code",
   "execution_count": 27,
   "id": "bd35f3e4",
   "metadata": {},
   "outputs": [],
   "source": [
    "from pyspark.ml.feature import VectorAssembler\n",
    "from pyspark.ml import Pipeline\n",
    "from pyspark.sql.functions import col\n",
    "from pyspark.ml.classification import LinearSVC\n",
    "from pyspark.ml.evaluation import BinaryClassificationEvaluator\n",
    "import pandas as pd"
   ]
  },
  {
   "cell_type": "code",
   "execution_count": 28,
   "id": "67338f13",
   "metadata": {},
   "outputs": [],
   "source": [
    "# Delete target column and create feature vector\n",
    "feature_columns = [c for c in df.columns if c != 'Heart Attack']\n",
    "assembler = VectorAssembler(inputCols=feature_columns, outputCol=\"features\")\n",
    "\n",
    "# Convert target variable to label\n",
    "df = df.withColumn(\"label\", col(\"Heart Attack\").cast(\"double\"))\n",
    "\n",
    "# Using VectorAssembler to convert features into a single feature vector\n",
    "df = assembler.transform(df)"
   ]
  },
  {
   "cell_type": "code",
   "execution_count": 29,
   "id": "4431ec7b",
   "metadata": {},
   "outputs": [],
   "source": [
    "# partitioned data set\n",
    "(train_data, test_data) = df.randomSplit([0.7, 0.3], seed=42)"
   ]
  },
  {
   "cell_type": "code",
   "execution_count": 30,
   "id": "43964f42",
   "metadata": {},
   "outputs": [
    {
     "name": "stdout",
     "output_type": "stream",
     "text": [
      "+----+------+------------------+--------------+--------------------+------------+-------------------------+------------------------+------------------+-----+--------------------+\n",
      "| Age|Gender|Cholesterol(mg/dL)|Glucose(mg/dL)|Exercise(hours/week)|Heart Attack|High Blood Pressure(mmHg)|Low Blood Pressure(mmHg)|               BMI|label|            features|\n",
      "+----+------+------------------+--------------+--------------------+------------+-------------------------+------------------------+------------------+-----+--------------------+\n",
      "|30.0|   2.0|             170.0|          75.0|                 1.0|           0|                    105.0|                    65.0| 24.97398543184183|  0.0|[30.0,2.0,170.0,7...|\n",
      "|30.0|   2.0|             180.0|          80.0|                 2.0|           0|                    110.0|                    70.0|25.390624999999996|  0.0|[30.0,2.0,180.0,8...|\n",
      "|30.0|   2.0|             210.0|          92.0|                 4.0|           1|                    124.0|                    79.0|26.332888752094664|  1.0|[30.0,2.0,210.0,9...|\n",
      "|30.0|   2.0|             210.0|          92.0|                 4.0|           1|                    124.0|                    79.0|26.332888752094664|  1.0|[30.0,2.0,210.0,9...|\n",
      "|30.0|   2.0|             210.0|          92.0|                 4.0|           1|                    124.0|                    79.0|26.332888752094664|  1.0|[30.0,2.0,210.0,9...|\n",
      "+----+------+------------------+--------------+--------------------+------------+-------------------------+------------------------+------------------+-----+--------------------+\n",
      "only showing top 5 rows\n",
      "\n"
     ]
    }
   ],
   "source": [
    "train_data.show(5)"
   ]
  },
  {
   "cell_type": "code",
   "execution_count": 31,
   "id": "b575a512",
   "metadata": {},
   "outputs": [
    {
     "name": "stdout",
     "output_type": "stream",
     "text": [
      "+----+------+------------------+--------------+--------------------+------------+-------------------------+------------------------+------------------+-----+--------------------+\n",
      "| Age|Gender|Cholesterol(mg/dL)|Glucose(mg/dL)|Exercise(hours/week)|Heart Attack|High Blood Pressure(mmHg)|Low Blood Pressure(mmHg)|               BMI|label|            features|\n",
      "+----+------+------------------+--------------+--------------------+------------+-------------------------+------------------------+------------------+-----+--------------------+\n",
      "|30.0|   2.0|             210.0|          92.0|                 4.0|           1|                    124.0|                    79.0|26.332888752094664|  1.0|[30.0,2.0,210.0,9...|\n",
      "|30.0|   2.0|             210.0|          92.0|                 4.0|           1|                    124.0|                    79.0|26.332888752094664|  1.0|[30.0,2.0,210.0,9...|\n",
      "|30.0|   2.0|             210.0|          92.0|                 4.0|           1|                    124.0|                    79.0|26.332888752094664|  1.0|[30.0,2.0,210.0,9...|\n",
      "|30.0|   2.0|             210.0|          92.0|                 4.0|           1|                    124.0|                    79.0|26.332888752094664|  1.0|[30.0,2.0,210.0,9...|\n",
      "|30.0|   2.0|             210.0|          92.0|                 4.0|           1|                    124.0|                    79.0|26.332888752094664|  1.0|[30.0,2.0,210.0,9...|\n",
      "+----+------+------------------+--------------+--------------------+------------+-------------------------+------------------------+------------------+-----+--------------------+\n",
      "only showing top 5 rows\n",
      "\n"
     ]
    }
   ],
   "source": [
    "test_data.show(5)"
   ]
  },
  {
   "cell_type": "code",
   "execution_count": 32,
   "id": "66429c12",
   "metadata": {},
   "outputs": [
    {
     "name": "stderr",
     "output_type": "stream",
     "text": [
      "24/05/23 09:58:54 WARN InstanceBuilder$NativeBLAS: Failed to load implementation from:dev.ludovic.netlib.blas.JNIBLAS\n",
      "24/05/23 09:58:54 WARN InstanceBuilder$NativeBLAS: Failed to load implementation from:dev.ludovic.netlib.blas.ForeignLinkerBLAS\n"
     ]
    }
   ],
   "source": [
    "# Create SVM model\n",
    "svm = LinearSVC(featuresCol=\"features\", labelCol=\"label\")\n",
    "\n",
    "# training model\n",
    "svm_model = svm.fit(train_data)"
   ]
  },
  {
   "cell_type": "code",
   "execution_count": 33,
   "id": "d5ce4563",
   "metadata": {},
   "outputs": [
    {
     "name": "stdout",
     "output_type": "stream",
     "text": [
      "Accuracy: 0.9998796340876264\n",
      "Number of prediction errors: 1\n"
     ]
    }
   ],
   "source": [
    "# Use test data for prediction and calculate the accuracy of the model.\n",
    "predictions = svm_model.transform(test_data)\n",
    "\n",
    "evaluator = BinaryClassificationEvaluator()\n",
    "accuracy = evaluator.evaluate(predictions)\n",
    "print(\"Accuracy:\", accuracy)\n",
    "\n",
    "prediction_errors = predictions.filter(predictions['label'] != predictions['prediction']).count()\n",
    "print(\"Number of prediction errors:\", prediction_errors)"
   ]
  },
  {
   "cell_type": "code",
   "execution_count": 34,
   "id": "55bfac18",
   "metadata": {},
   "outputs": [],
   "source": [
    "from pyspark.ml.classification import LogisticRegression\n",
    "# Create logistic regression model\n",
    "lr = LogisticRegression(featuresCol=\"features\", labelCol=\"label\")\n",
    "\n",
    "lr_model = lr.fit(train_data)"
   ]
  },
  {
   "cell_type": "code",
   "execution_count": 35,
   "id": "e511f9b4",
   "metadata": {},
   "outputs": [],
   "source": [
    "from pyspark.ml.classification import LogisticRegression\n",
    "\n",
    "lr = LogisticRegression(featuresCol=\"features\", labelCol=\"label\", maxIter=10, regParam=0.3, elasticNetParam=0.8)\n",
    "\n",
    "lr_model = lr.fit(train_data)"
   ]
  },
  {
   "cell_type": "code",
   "execution_count": 36,
   "id": "1865cfc0",
   "metadata": {},
   "outputs": [
    {
     "name": "stdout",
     "output_type": "stream",
     "text": [
      "Accuracy: 0.9985556090515165\n",
      "Number of prediction errors: 6\n"
     ]
    }
   ],
   "source": [
    "# Use test data for prediction and calculate the accuracy of the model.\n",
    "predictions = lr_model.transform(test_data)\n",
    "\n",
    "evaluator = BinaryClassificationEvaluator()\n",
    "accuracy = evaluator.evaluate(predictions)\n",
    "\n",
    "print(\"Accuracy:\", accuracy)\n",
    "\n",
    "prediction_errors = predictions.filter(predictions['label'] != predictions['prediction']).count()\n",
    "print(\"Number of prediction errors:\", prediction_errors)"
   ]
  },
  {
   "cell_type": "code",
   "execution_count": 37,
   "id": "d265f1aa",
   "metadata": {},
   "outputs": [
    {
     "name": "stdout",
     "output_type": "stream",
     "text": [
      "                     Feature  Coefficients\n",
      "0                        Age      0.000000\n",
      "1                     Gender      0.000000\n",
      "2         Cholesterol(mg/dL)      0.033859\n",
      "3             Glucose(mg/dL)      0.045999\n",
      "4       Exercise(hours/week)      0.000000\n",
      "5  High Blood Pressure(mmHg)      0.000000\n",
      "6   Low Blood Pressure(mmHg)      0.026870\n",
      "7                        BMI      0.000000\n"
     ]
    }
   ],
   "source": [
    "coefficients = lr_model.coefficients\n",
    "\n",
    "feature_coefficients = pd.DataFrame({\n",
    "    'Feature': feature_columns,\n",
    "    'Coefficients': coefficients\n",
    "})\n",
    "\n",
    "print(feature_coefficients)"
   ]
  },
  {
   "cell_type": "code",
   "execution_count": 38,
   "id": "e0a5f42f",
   "metadata": {},
   "outputs": [
    {
     "name": "stdout",
     "output_type": "stream",
     "text": [
      "Intercept: -12.933107151490855\n"
     ]
    }
   ],
   "source": [
    "intercept = lr_model.intercept\n",
    "print(\"Intercept:\", intercept)"
   ]
  },
  {
   "cell_type": "code",
   "execution_count": 39,
   "id": "4ded8cd2",
   "metadata": {},
   "outputs": [
    {
     "name": "stdout",
     "output_type": "stream",
     "text": [
      "AUC: 0.9985556090515165\n"
     ]
    }
   ],
   "source": [
    "predictions = lr_model.transform(test_data)\n",
    "\n",
    "evaluator = BinaryClassificationEvaluator(metricName=\"areaUnderROC\")\n",
    "auc = evaluator.evaluate(predictions)\n",
    "print(\"AUC:\", auc)"
   ]
  },
  {
   "cell_type": "code",
   "execution_count": 40,
   "id": "78c439c0",
   "metadata": {},
   "outputs": [
    {
     "name": "stderr",
     "output_type": "stream",
     "text": [
      "/home/ubuntu/spark-3.2.1-bin-hadoop2.7/python/pyspark/sql/context.py:125: FutureWarning: Deprecated in 3.0.0. Use SparkSession.builder.getOrCreate() instead.\n",
      "  warnings.warn(\n"
     ]
    }
   ],
   "source": [
    "training_summary = lr_model.summary\n",
    "\n",
    "roc = training_summary.roc.toPandas()"
   ]
  },
  {
   "cell_type": "code",
   "execution_count": 41,
   "id": "9516e0f0",
   "metadata": {},
   "outputs": [
    {
     "data": {
      "image/png": "[encoded data removed]",
      "text/plain": [
       "<Figure size 720x576 with 1 Axes>"
      ]
     },
     "metadata": {
      "needs_background": "light"
     },
     "output_type": "display_data"
    }
   ],
   "source": [
    "import matplotlib.pyplot as plt\n",
    "\n",
    "plt.figure(figsize=(10, 8))\n",
    "plt.plot(roc['FPR'], roc['TPR'], label='ROC Curve (area = %0.2f)' % training_summary.areaUnderROC)\n",
    "plt.plot([0, 1], [0, 1], 'r--')\n",
    "plt.xlabel('False Positive Rate')\n",
    "plt.ylabel('True Positive Rate')\n",
    "plt.title('Receiver Operating Characteristic')\n",
    "plt.legend(loc=\"lower right\")\n",
    "plt.show()"
   ]
  },
  {
   "cell_type": "code",
   "execution_count": 42,
   "id": "21d6ee81",
   "metadata": {},
   "outputs": [],
   "source": [
    "from pyspark.ml.classification import DecisionTreeClassifier\n",
    "# Create decision tree model\n",
    "tree_model = DecisionTreeClassifier(featuresCol=\"features\", labelCol=\"label\")\n",
    "\n",
    "tree_model = tree_model.fit(train_data)"
   ]
  },
  {
   "cell_type": "code",
   "execution_count": 43,
   "id": "fba35cb2",
   "metadata": {},
   "outputs": [
    {
     "name": "stdout",
     "output_type": "stream",
     "text": [
      "Accuracy: 0.9959677419354839\n",
      "Number of prediction errors: 1\n"
     ]
    }
   ],
   "source": [
    "# Use test data for prediction and calculate the accuracy of the model.\n",
    "predictions = tree_model.transform(test_data)\n",
    "\n",
    "evaluator = BinaryClassificationEvaluator()\n",
    "accuracy = evaluator.evaluate(predictions)\n",
    "\n",
    "print(\"Accuracy:\", accuracy)\n",
    "\n",
    "prediction_errors = predictions.filter(predictions['label'] != predictions['prediction']).count()\n",
    "print(\"Number of prediction errors:\", prediction_errors)"
   ]
  },
  {
   "cell_type": "code",
   "execution_count": 44,
   "id": "543fb14b",
   "metadata": {},
   "outputs": [],
   "source": [
    "from pyspark.ml.classification import RandomForestClassifier\n",
    "\n",
    "# Define the RandomForest model\n",
    "rf_model = RandomForestClassifier(featuresCol=\"features\", labelCol=\"label\", numTrees=20, seed=42)\n",
    "\n",
    "# Train the model\n",
    "rf_model = rf_model.fit(train_data)"
   ]
  },
  {
   "cell_type": "code",
   "execution_count": 45,
   "id": "fc699f4e",
   "metadata": {},
   "outputs": [
    {
     "name": "stdout",
     "output_type": "stream",
     "text": [
      "Accuracy: 1.0\n",
      "Number of prediction errors: 1\n"
     ]
    }
   ],
   "source": [
    "# Use test data for prediction and calculate the accuracy of the model.\n",
    "predictions = rf_model.transform(test_data)\n",
    "\n",
    "evaluator = BinaryClassificationEvaluator()\n",
    "accuracy = evaluator.evaluate(predictions)\n",
    "\n",
    "print(\"Accuracy:\", accuracy)\n",
    "\n",
    "prediction_errors = predictions.filter(predictions['label'] != predictions['prediction']).count()\n",
    "print(\"Number of prediction errors:\", prediction_errors)"
   ]
  },
  {
   "cell_type": "code",
   "execution_count": 46,
   "id": "c997e3a8",
   "metadata": {},
   "outputs": [
    {
     "name": "stdout",
     "output_type": "stream",
     "text": [
      "                     Feature  Importance\n",
      "3             Glucose(mg/dL)    0.363217\n",
      "2         Cholesterol(mg/dL)    0.360650\n",
      "5  High Blood Pressure(mmHg)    0.112387\n",
      "6   Low Blood Pressure(mmHg)    0.079669\n",
      "0                        Age    0.041169\n",
      "7                        BMI    0.037347\n",
      "4       Exercise(hours/week)    0.004900\n",
      "1                     Gender    0.000661\n"
     ]
    }
   ],
   "source": [
    "feature_importances = rf_model.featureImportances.toArray()\n",
    "\n",
    "feature_importance = pd.DataFrame({\n",
    "    'Feature': feature_columns,\n",
    "    'Importance': feature_importances\n",
    "})\n",
    "\n",
    "print(feature_importance.sort_values(by='Importance', ascending=False))"
   ]
  },
  {
   "cell_type": "code",
   "execution_count": 47,
   "id": "05032ab0",
   "metadata": {},
   "outputs": [
    {
     "name": "stdout",
     "output_type": "stream",
     "text": [
      "DecisionTreeClassificationModel: uid=dtc_b2b7442df462, depth=2, numNodes=7, numClasses=2, numFeatures=8\n",
      "  If (feature 3 <= 91.0)\n",
      "   If (feature 5 <= 122.5)\n",
      "    Predict: 0.0\n",
      "   Else (feature 5 > 122.5)\n",
      "    Predict: 1.0\n",
      "  Else (feature 3 > 91.0)\n",
      "   If (feature 2 <= 202.5)\n",
      "    Predict: 0.0\n",
      "   Else (feature 2 > 202.5)\n",
      "    Predict: 1.0\n",
      "\n"
     ]
    }
   ],
   "source": [
    "tree_model = rf_model.trees[0]\n",
    "tree_description = tree_model.toDebugString\n",
    "\n",
    "print(tree_description)"
   ]
  },
  {
   "cell_type": "code",
   "execution_count": null,
   "id": "8e732bc5",
   "metadata": {},
   "outputs": [],
   "source": []
  }
 ],
 "metadata": {
  "kernelspec": {
   "display_name": "Python 3 (ipykernel)",
   "language": "python",
   "name": "python3"
  },
  "language_info": {
   "codemirror_mode": {
    "name": "ipython",
    "version": 3
   },
   "file_extension": ".py",
   "mimetype": "text/x-python",
   "name": "python",
   "nbconvert_exporter": "python",
   "pygments_lexer": "ipython3",
   "version": "3.10.12"
  }
 },
 "nbformat": 4,
 "nbformat_minor": 5
}
